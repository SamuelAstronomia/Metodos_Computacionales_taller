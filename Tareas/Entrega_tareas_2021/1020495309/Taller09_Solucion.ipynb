{
  "nbformat": 4,
  "nbformat_minor": 0,
  "metadata": {
    "colab": {
      "name": "Taller09-Solucion",
      "provenance": []
    },
    "kernelspec": {
      "name": "python3",
      "display_name": "Python 3"
    },
    "language_info": {
      "name": "python"
    }
  },
  "cells": [
    {
      "cell_type": "markdown",
      "metadata": {
        "id": "QheiWdTrwCqI"
      },
      "source": [
        "**Taller 09 - Samuel Giraldo Builes - Juan Esteban Berrío Salazar**"
      ]
    },
    {
      "cell_type": "code",
      "metadata": {
        "id": "SCaOwcoxL4eP"
      },
      "source": [
        "import numpy as np\n",
        "import matplotlib.pyplot as plt\n",
        "import scipy.linalg as la"
      ],
      "execution_count": 23,
      "outputs": []
    },
    {
      "cell_type": "code",
      "metadata": {
        "id": "gxT4l869MAba"
      },
      "source": [
        "#Matriz\n",
        "M1 = np.array([[2,-1,1],\n",
        "               [0,3,-1],\n",
        "               [2,1,3]])"
      ],
      "execution_count": 2,
      "outputs": []
    },
    {
      "cell_type": "code",
      "metadata": {
        "id": "aQ5YExtCTXdX"
      },
      "source": [
        "#Otra forma más practica de construir la matriz\n",
        "x1 = np.array([2,-1,1])\n",
        "x2 = np.array([0,3,-1])\n",
        "x3 = np.array([2,1,3])\n",
        "\n",
        "a = np.array([x1,x2,x3]) #Matriz (como un arreglo)\n",
        "A = np.asmatrix([x1,x2,x3]) #Matriz"
      ],
      "execution_count": 16,
      "outputs": []
    },
    {
      "cell_type": "code",
      "metadata": {
        "id": "_G0xbsBsP4Kd"
      },
      "source": [
        "autovalor, autovector = la.eig(A)\n",
        "autovalor_round = autovalor.round()\n",
        "autovector_round = autovector.round()"
      ],
      "execution_count": 26,
      "outputs": []
    },
    {
      "cell_type": "code",
      "metadata": {
        "id": "COZ1RsWNVSXr"
      },
      "source": [
        "#Corvirtiendo los autovectores en una matriz:\n",
        "D = np.asmatrix(autovector)\n",
        "#Diagonalizando la matriz:\n",
        "A_diag = D.I @ ( A @D)"
      ],
      "execution_count": 43,
      "outputs": []
    },
    {
      "cell_type": "code",
      "metadata": {
        "id": "Pw-PQnpXWhYQ"
      },
      "source": [
        "f = lambda t: np.exp(-autovalor*t)"
      ],
      "execution_count": 49,
      "outputs": []
    },
    {
      "cell_type": "code",
      "metadata": {
        "id": "hvPXcSvFZ13J"
      },
      "source": [
        "t = np.linspace(0,2,10)\n",
        "for i in t:\n",
        "\n",
        "# Revisando la grabación del taller vi que este ejercicio ser realizó en clase "
      ],
      "execution_count": null,
      "outputs": []
    },
    {
      "cell_type": "markdown",
      "metadata": {
        "id": "g6OWg2QRcwxC"
      },
      "source": [
        "**Punto 2 - Código incriptado**"
      ]
    },
    {
      "cell_type": "code",
      "metadata": {
        "id": "vmkP72Uqcvx3"
      },
      "source": [
        "#Definiendo matrices\n",
        "#Matriz Código\n",
        "C = np.asmatrix([[ 1,  2, -3,  4,  5],\n",
        "        [-2, -5,  8, -8, -9],\n",
        "        [ 1,  2, -2,  7,  9],\n",
        "        [ 1,  1,  0,  6, 12],\n",
        "        [ 2,  4, -6,  8, 11]])\n",
        "#Matriz que nos enviaron\n",
        "R = np.asmatrix([[47,49,-19,257,487],\n",
        "                 [10,-9,63,137,236],\n",
        "                 [79,142,-184,372,536],\n",
        "                 [59,70,-40,332,588]])\n",
        "#Para decifrar el mensaje(M), multiplicamos el mensaje que nos llegó (R), a la derecha por la inversa de la matriz código(C)\n",
        "#Matriz mensaje\n",
        "\n",
        "M = R @ C.I\n",
        "\n",
        "abc=['A','B','C','D','E','F','G','H','I','J','K','L','M','N','O','P','Q','R','S','T','U','V','W','X','Y','Z',' ']\n",
        "num=['1','2','3','4','5','6','7','8','9','10','11','12','13','14','15','16','17','18','19','20','21','22','23','24','25','26','27']"
      ],
      "execution_count": 69,
      "outputs": []
    },
    {
      "cell_type": "code",
      "metadata": {
        "colab": {
          "base_uri": "https://localhost:8080/"
        },
        "id": "dKOxtz9OeA9_",
        "outputId": "43a02ed6-951f-440e-fe96-5deee85f6d0a"
      },
      "source": [
        "#Decifrando el mensaje \n",
        "i = 0\n",
        "mensaje = \"Mensaje: \"\n",
        "while i < 4: # 4 es el número de columas\n",
        "  k = 0\n",
        "  while k < 5: # 5 es el número de filas\n",
        "    Contador = round(M[i,k]) # Para que sea un entero\n",
        "    letra = abc[Contador - 1] # Al contador se le resta uno, pues para la lista \"abc\" el \"0\" es la \"A\", así que se debe hacer esta correción para que se interprete bien el mensaje\n",
        "    mensaje = mensaje + letra\n",
        "    k = k+1\n",
        "  i = i+1\n",
        "print(mensaje)"
      ],
      "execution_count": 137,
      "outputs": [
        {
          "output_type": "stream",
          "name": "stdout",
          "text": [
            "Mensaje: ARE YOU HAVING FUN  \n"
          ]
        }
      ]
    },
    {
      "cell_type": "markdown",
      "metadata": {
        "id": "XmyrtrJvlK2i"
      },
      "source": [
        "**Punto 3 - Multiplicación de matrices**"
      ]
    },
    {
      "cell_type": "code",
      "metadata": {
        "id": "_kSY7Opxm_sR"
      },
      "source": [
        "#Matrices de prueba\n",
        "M1 = np.array([[2,-1,1],\n",
        "               [0,3,-1],\n",
        "               [2,1,3]])\n",
        "M2 = np.array([[2,-1,1],\n",
        "               [0,3,-1],\n",
        "               [2,1,3]])\n",
        "M3 = np.array([[2,-1,1],\n",
        "               [0,3,-1],\n",
        "               [2,1,3],\n",
        "               [1,1,1]])\n",
        "def columnas(M):\n",
        "  \"\"\"\n",
        "  Determina las columnas de la matriz M\n",
        "  \"\"\"\n",
        "  columnas = len(M)\n",
        "  return columnas\n",
        "\n",
        "def filas(M):\n",
        "  \"\"\"\n",
        "  \"\"\"\n",
        "  filas = len(M[0])\n",
        "  return filas\n",
        "\n",
        "def productoM(M1,M2):\n",
        "  \"\"\"\n",
        "  M1: matriz a la izquierda\n",
        "  M2: matriz a la derecha\n",
        "  \"\"\"\n",
        "  M = \"ERROR\"\n",
        "  if filas(M1) == columnas(M2):\n",
        "    M = np.zeros([columnas(M1),filas(M2)])\n",
        "    p = 0\n",
        "    while p < columnas(M1): #Seleccionando las columnas de M1, e iterandolas\n",
        "      q = 0\n",
        "      while q < filas(M1): # Iterando el valor de cada columna de M1 y cada fila de M2\n",
        "        M[p,q] = M[p,q] + M1[q,p]*M2[p,q]\n",
        "        q = q+1\n",
        "      p = p + 1\n",
        "  else:\n",
        "    print(\"Las dimensiones del las metrices son incorrectas\")\n",
        "  return M"
      ],
      "execution_count": 188,
      "outputs": []
    },
    {
      "cell_type": "code",
      "metadata": {
        "colab": {
          "base_uri": "https://localhost:8080/",
          "height": 55
        },
        "id": "xfZ45wlDnpYZ",
        "outputId": "88708a16-1d73-42eb-f475-75f8ad073361"
      },
      "source": [
        ""
      ],
      "execution_count": 189,
      "outputs": [
        {
          "output_type": "stream",
          "name": "stdout",
          "text": [
            "Las dimensiones del las metrices son incorrectas\n"
          ]
        },
        {
          "output_type": "execute_result",
          "data": {
            "application/vnd.google.colaboratory.intrinsic+json": {
              "type": "string"
            },
            "text/plain": [
              "'ERROR'"
            ]
          },
          "metadata": {},
          "execution_count": 189
        }
      ]
    },
    {
      "cell_type": "code",
      "metadata": {
        "id": "NtfGRuRPtGMj"
      },
      "source": [
        "M = np.zeros([columnas(M1),filas(M2)])"
      ],
      "execution_count": 177,
      "outputs": []
    }
  ]
}